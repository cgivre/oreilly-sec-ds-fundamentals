{
 "cells": [
  {
   "cell_type": "markdown",
   "metadata": {},
   "source": [
    "# One Dimensional Data Worksheet\n",
    "This worksheet reviews the concepts discussed about 1 dimensional data.  The goal for these exercises is getting you to think in terms of vectorized computing.  This worksheet should take 20-30 minutes to complete."
   ]
  },
  {
   "cell_type": "code",
   "execution_count": 1,
   "metadata": {
    "collapsed": true
   },
   "outputs": [],
   "source": [
    "import pandas as pd\n",
    "import numpy as np"
   ]
  },
  {
   "cell_type": "markdown",
   "metadata": {},
   "source": [
    "## Exercise 1\n",
    "Create a Series object with 100 random integers, then filter out odd integers and reindex the Series.  Hint:  you can use ```python np.random.random_integers(1, 100, 100) ``` to create the random numbers.  Print out the first 20 numbers."
   ]
  },
  {
   "cell_type": "code",
   "execution_count": 2,
   "metadata": {
    "collapsed": false
   },
   "outputs": [
    {
     "name": "stdout",
     "output_type": "stream",
     "text": [
      "0    61\n",
      "1    35\n",
      "2    20\n",
      "3    65\n",
      "4    28\n",
      "dtype: int64\n"
     ]
    },
    {
     "data": {
      "text/plain": [
       "0    20\n",
       "1    28\n",
       "2    76\n",
       "3    32\n",
       "4    80\n",
       "dtype: int64"
      ]
     },
     "execution_count": 2,
     "metadata": {},
     "output_type": "execute_result"
    }
   ],
   "source": [
    "#First initialize the series by calling the pd.Series() function\n",
    "randomNumbers = pd.Series( np.random.randint(1, 100, 100) )\n",
    "#Display the first 5 random numbers\n",
    "print( randomNumbers.head() )\n",
    "\n",
    "#Next filter out the odd numbers by using the mod operator and reset the index\n",
    "evenRandomNumbers = randomNumbers[ randomNumbers % 2 == 0].reset_index( drop=True )\n",
    "\n",
    "#Display the first 5\n",
    "\n",
    "evenRandomNumbers.head()"
   ]
  },
  {
   "cell_type": "markdown",
   "metadata": {},
   "source": [
    "## Exercise 2\n",
    "You will be given a list containing 10 strings. Create a new Series called validPhoneNumbers that only contains data in the format (XXX)XXX-XXXX.  Don't forget to reindex the series after you've filtered it. "
   ]
  },
  {
   "cell_type": "code",
   "execution_count": 3,
   "metadata": {
    "collapsed": true
   },
   "outputs": [],
   "source": [
    "numbers = ['(342)123-2345', '410-342-3421', '(234 434-2121', '(301)822-3423', '123-234-3423', '(410)555-4443', 'AAAAHHH', '(XXX)XXX-XXXX', '(602)123-4535', '(234)127-4534']"
   ]
  },
  {
   "cell_type": "code",
   "execution_count": 4,
   "metadata": {
    "collapsed": true
   },
   "outputs": [],
   "source": [
    "#Predefined list of numbers\n",
    "numbers = ['(342)123-2345', '410-342-3421', '(234 434-2121', '(301)822-3423', '123-234-3423', '(410)555-4443', 'AAAAHHH', '(XXX)XXX-XXXX', '(602)123-4535', '(234)127-4534']\n",
    "\n",
    "#Create the phone numbers series\n",
    "phoneNumbers = pd.Series( numbers )\n",
    "\n",
    "#Next filter the phone numbers by using the str.match function\n",
    "validPhoneNumbers = phoneNumbers[ phoneNumbers.str.match( r'\\(\\d{3}\\)\\d{3}-\\d{4}') ].reset_index( drop=True )\n"
   ]
  },
  {
   "cell_type": "markdown",
   "metadata": {},
   "source": [
    "## Exercise 3\n",
    "The code below contains a lambda function which converts a temperature from Farenheit to Celsius.  You are given a Series called temperatures in Farhenheit.  Using the ```.apply()``` function, convert the data into degrees Celsius. "
   ]
  },
  {
   "cell_type": "code",
   "execution_count": 5,
   "metadata": {
    "collapsed": true
   },
   "outputs": [],
   "source": [
    "#This function converts a number from Farenheit to Celsius\n",
    "toCelsius = lambda x: (float(5)/9)*(x-32)\n",
    "\n",
    "#Creates a series with numbers that represent temperatures in Farenheit\n",
    "tempsInFarenheit = pd.Series( [92,33,-5,17,122,87 ])"
   ]
  },
  {
   "cell_type": "code",
   "execution_count": 6,
   "metadata": {
    "collapsed": false
   },
   "outputs": [
    {
     "name": "stdout",
     "output_type": "stream",
     "text": [
      "0    33.333333\n",
      "1     0.555556\n",
      "2   -20.555556\n",
      "3    -8.333333\n",
      "4    50.000000\n",
      "5    30.555556\n",
      "dtype: float64\n"
     ]
    }
   ],
   "source": [
    "#Your code here...\n",
    "tempsinCelsius = tempsInFarenheit.apply( toCelsius )\n",
    "print( tempsinCelsius)"
   ]
  },
  {
   "cell_type": "markdown",
   "metadata": {},
   "source": [
    "## Exercise 4\n",
    "You are given a list of numbers called `numList`.  Without using a loop, write a script to count occurances of each value in the list."
   ]
  },
  {
   "cell_type": "code",
   "execution_count": 7,
   "metadata": {
    "collapsed": true
   },
   "outputs": [],
   "source": [
    "numList = [1,1,1,1,1,2,4,5,7,5,4,5,6,4,3,5,5,5,6,9,0,7,6,7,5,4,4,7]"
   ]
  },
  {
   "cell_type": "code",
   "execution_count": 8,
   "metadata": {
    "collapsed": false
   },
   "outputs": [
    {
     "data": {
      "text/plain": [
       "5    7\n",
       "4    5\n",
       "1    5\n",
       "7    4\n",
       "6    3\n",
       "9    1\n",
       "3    1\n",
       "2    1\n",
       "0    1\n",
       "dtype: int64"
      ]
     },
     "execution_count": 8,
     "metadata": {},
     "output_type": "execute_result"
    }
   ],
   "source": [
    "#Your code here...\n",
    "numSeries = pd.Series( numList)\n",
    "numSeries.value_counts()"
   ]
  },
  {
   "cell_type": "markdown",
   "metadata": {},
   "source": [
    "## Exercise 5\n",
    "You are given a Series of IP Addresses and the goal is to limit this data to private IP addresses.  Python has an `ipaddress` module which provides the capability to create, manipulate and operate on IPv4 and IPv6 addresses and networks.  Complete documentation is available here: https://docs.python.org/3/library/ipaddress.html.  \n",
    "\n",
    "Here are some examples of how you might use this module:\n",
    "\n",
    "```python\n",
    "import ipaddress\n",
    "myIP = ipaddress.ip_address( '192.168.0.1' )\n",
    "myNetwork = ipaddress.ip_network( '192.168.0.0/28' )\n",
    "\n",
    "#Check membership in network\n",
    "if myIP in myNetwork:  #This works\n",
    "    print \"Yay!\"\n",
    "\n",
    "#Loop through CIDR blocks\n",
    "for ip in myNetwork:\n",
    "    print( ip )\n",
    "\n",
    "192.168.0.0\n",
    "192.168.0.1\n",
    "…\n",
    "…\n",
    "192.168.0.13\n",
    "192.168.0.14\n",
    "192.168.0.15\n",
    "\n",
    "#Testing to see if an IP is private\n",
    "if myIP.is_private:\n",
    "    print( \"This IP is private\" )\n",
    "else:\n",
    "    print( \"Routable IP\" )\n",
    "\n",
    "```\n",
    "\n",
    "1.  First, write a function which takes an IP address and returns true if the IP is private, false if it is public.  HINT:  use the ```ipaddress``` module. \n",
    "2.  Next, use this to create a Series of true/false values in the same sequence as your original Series.\n",
    "3.  Finally, use this to filter out the original Series so that it contains only private IP addresses."
   ]
  },
  {
   "cell_type": "code",
   "execution_count": 9,
   "metadata": {
    "collapsed": true
   },
   "outputs": [],
   "source": [
    "import ipaddress\n",
    "hosts = [ '192.168.1.2', '10.10.10.2', '172.143.23.34', '34.34.35.34', '172.15.0.1', '172.17.0.1']"
   ]
  },
  {
   "cell_type": "code",
   "execution_count": 10,
   "metadata": {
    "collapsed": false
   },
   "outputs": [
    {
     "name": "stdout",
     "output_type": "stream",
     "text": [
      "0    192.168.1.2\n",
      "1     10.10.10.2\n",
      "5     172.17.0.1\n",
      "dtype: object\n"
     ]
    }
   ],
   "source": [
    "from ipaddress import ip_address \n",
    "IPData = pd.Series( hosts )\n",
    "privateIPs = IPData[IPData.apply( lambda x : ip_address(x).is_private ) ]\n",
    "print( privateIPs )"
   ]
  }
 ],
 "metadata": {
  "anaconda-cloud": {},
  "kernelspec": {
   "display_name": "Python [default]",
   "language": "python",
   "name": "python3"
  },
  "language_info": {
   "codemirror_mode": {
    "name": "ipython",
    "version": 3
   },
   "file_extension": ".py",
   "mimetype": "text/x-python",
   "name": "python",
   "nbconvert_exporter": "python",
   "pygments_lexer": "ipython3",
   "version": "3.5.2"
  }
 },
 "nbformat": 4,
 "nbformat_minor": 1
}
