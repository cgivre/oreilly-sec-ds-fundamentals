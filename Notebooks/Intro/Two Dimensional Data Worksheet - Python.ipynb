{
 "cells": [
  {
   "cell_type": "markdown",
   "metadata": {},
   "source": [
    "# Two Dimensional Data Worksheet\n",
    "This worksheet focuses on manipulating two dimensional data using Python and Pandas."
   ]
  },
  {
   "cell_type": "code",
   "execution_count": 1,
   "metadata": {
    "collapsed": false
   },
   "outputs": [
    {
     "name": "stdout",
     "output_type": "stream",
     "text": [
      "Populating the interactive namespace from numpy and matplotlib\n"
     ]
    }
   ],
   "source": [
    "%pylab inline\n",
    "import pandas as pd\n",
    "import numpy as np\n",
    "pd.options.mode.chained_assignment = None"
   ]
  },
  {
   "cell_type": "code",
   "execution_count": 2,
   "metadata": {
    "collapsed": false
   },
   "outputs": [],
   "source": [
    "#Create a dataframe called twitter data from the CSV file\n",
    "#Note if this is breaking your machine there is a smaller data set in the data file called twitter1-small.csv\n",
    "twitterData = pd.read_csv( '../Data/twitter1.csv', encoding='iso8859_15' )"
   ]
  },
  {
   "cell_type": "markdown",
   "metadata": {},
   "source": [
    "## Exercise 1\n",
    "Using the ```twitterData``` DataFrame and the commands we have learned thus far and create a Series called ```tweetCounts``` which contains the user name and how many tweets each user posted.  Next, output the top 10 \"tweeters\"."
   ]
  },
  {
   "cell_type": "code",
   "execution_count": null,
   "metadata": {
    "collapsed": false
   },
   "outputs": [],
   "source": []
  },
  {
   "cell_type": "markdown",
   "metadata": {},
   "source": [
    "## Exercise 2\n",
    "Using the original twitter data set, create a second DataFrame called ```twitterSummary``` which contains the following columns:\n",
    "* Username\n",
    "* Friends \n",
    "* Followers\n",
    "\n",
    "\n",
    "Next add a column called ```ffratio``` which contains the ratio of friends to followers."
   ]
  },
  {
   "cell_type": "code",
   "execution_count": null,
   "metadata": {
    "collapsed": false
   },
   "outputs": [],
   "source": []
  },
  {
   "cell_type": "markdown",
   "metadata": {},
   "source": [
    "## Exercise 3 \n",
    "In the ```Data``` folder, there is a spreadsheet called ```studentData.csv``` consisting of students and test scores.  Write a script which calculates each students' average test score and adds that as a column to the DataFrame.  The first person to raise their hand and tell me which student has the highest average test score, and what it is wins something."
   ]
  },
  {
   "cell_type": "code",
   "execution_count": null,
   "metadata": {
    "collapsed": false
   },
   "outputs": [],
   "source": []
  },
  {
   "cell_type": "markdown",
   "metadata": {
    "collapsed": true
   },
   "source": [
    "## Exercise 4\n",
    "Using the twitter data, find all the users with Facebook accounts and create a new column called ```FacebookID``` which contains the users' Facebook ID.  As you can see in the URL below, a user's Facebook ID can be found in the URL column, http://www.facebook.com/profile.php?id=5141860.  Extract this by using the ```str.extract``` function. Don't forget to remove all the invalid or empty IDs.  \n",
    "\n",
    "We've already created a DataFrame for you in the cell above."
   ]
  },
  {
   "cell_type": "code",
   "execution_count": null,
   "metadata": {
    "collapsed": true
   },
   "outputs": [],
   "source": []
  }
 ],
 "metadata": {
  "anaconda-cloud": {},
  "kernelspec": {
   "display_name": "Python [default]",
   "language": "python",
   "name": "python3"
  },
  "language_info": {
   "codemirror_mode": {
    "name": "ipython",
    "version": 3
   },
   "file_extension": ".py",
   "mimetype": "text/x-python",
   "name": "python",
   "nbconvert_exporter": "python",
   "pygments_lexer": "ipython3",
   "version": "3.5.2"
  }
 },
 "nbformat": 4,
 "nbformat_minor": 0
}
