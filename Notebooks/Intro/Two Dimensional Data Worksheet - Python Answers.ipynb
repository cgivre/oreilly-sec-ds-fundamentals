{
 "cells": [
  {
   "cell_type": "markdown",
   "metadata": {},
   "source": [
    "# Two Dimensional Data Worksheet\n",
    "This worksheet focuses on manipulating two dimensional data using Python and Pandas."
   ]
  },
  {
   "cell_type": "code",
   "execution_count": 1,
   "metadata": {
    "collapsed": false
   },
   "outputs": [
    {
     "name": "stdout",
     "output_type": "stream",
     "text": [
      "Populating the interactive namespace from numpy and matplotlib\n"
     ]
    }
   ],
   "source": [
    "%pylab inline\n",
    "import pandas as pd\n",
    "import numpy as np\n",
    "pd.options.mode.chained_assignment = None"
   ]
  },
  {
   "cell_type": "code",
   "execution_count": 4,
   "metadata": {
    "collapsed": false
   },
   "outputs": [],
   "source": [
    "#Create a dataframe called twitter data from the CSV file\n",
    "#Note if this is breaking your machine there is a smaller data set in the data file called twitter1-small.csv\n",
    "twitterData = pd.read_csv( '../../data/twitter1.csv', encoding='iso8859_15' )"
   ]
  },
  {
   "cell_type": "markdown",
   "metadata": {},
   "source": [
    "## Exercise 1\n",
    "Using the ```twitterData``` DataFrame and the commands we have learned thus far and create a Series called ```tweetCounts``` which contains the user name and how many tweets each user posted.  Next, output the top 10 \"tweeters\"."
   ]
  },
  {
   "cell_type": "code",
   "execution_count": 5,
   "metadata": {
    "collapsed": false
   },
   "outputs": [
    {
     "data": {
      "text/plain": [
       "HoolohaTube        155\n",
       "Rasu24             150\n",
       "HOOLOHASPORT       126\n",
       "mahboobali3        119\n",
       "EminemsRealWife    116\n",
       "byezekiel           89\n",
       "MyrtleMuelr         83\n",
       "LucindaFischer      79\n",
       "DebraRichayd        77\n",
       "JeanieNoble         70\n",
       "Name: Username, dtype: int64"
      ]
     },
     "execution_count": 5,
     "metadata": {},
     "output_type": "execute_result"
    }
   ],
   "source": [
    "tweetCounts = twitterData['Username'].value_counts()\n",
    "tweetCounts.head(10)"
   ]
  },
  {
   "cell_type": "markdown",
   "metadata": {},
   "source": [
    "## Exercise 2\n",
    "Using the original twitter data set, create a second DataFrame called ```twitterSummary``` which contains the following columns:\n",
    "* Username\n",
    "* Friends \n",
    "* Followers\n",
    "\n",
    "\n",
    "Next add a column called ```ffratio``` which contains the ratio of friends to followers."
   ]
  },
  {
   "cell_type": "code",
   "execution_count": 6,
   "metadata": {
    "collapsed": false
   },
   "outputs": [
    {
     "data": {
      "text/html": [
       "<div>\n",
       "<table border=\"1\" class=\"dataframe\">\n",
       "  <thead>\n",
       "    <tr style=\"text-align: right;\">\n",
       "      <th></th>\n",
       "      <th>Username</th>\n",
       "      <th>Friends</th>\n",
       "      <th>Followers</th>\n",
       "      <th>ffratio</th>\n",
       "    </tr>\n",
       "  </thead>\n",
       "  <tbody>\n",
       "    <tr>\n",
       "      <th>0</th>\n",
       "      <td>_prettybrown</td>\n",
       "      <td>1042</td>\n",
       "      <td>1538</td>\n",
       "      <td>0.677503</td>\n",
       "    </tr>\n",
       "    <tr>\n",
       "      <th>1</th>\n",
       "      <td>CarlyManning24</td>\n",
       "      <td>278</td>\n",
       "      <td>304</td>\n",
       "      <td>0.914474</td>\n",
       "    </tr>\n",
       "    <tr>\n",
       "      <th>2</th>\n",
       "      <td>madzLuvzLakers</td>\n",
       "      <td>619</td>\n",
       "      <td>1039</td>\n",
       "      <td>0.595765</td>\n",
       "    </tr>\n",
       "    <tr>\n",
       "      <th>3</th>\n",
       "      <td>_AyyJayy</td>\n",
       "      <td>203</td>\n",
       "      <td>204</td>\n",
       "      <td>0.995098</td>\n",
       "    </tr>\n",
       "    <tr>\n",
       "      <th>4</th>\n",
       "      <td>Akeemoneale</td>\n",
       "      <td>165</td>\n",
       "      <td>27</td>\n",
       "      <td>6.111111</td>\n",
       "    </tr>\n",
       "  </tbody>\n",
       "</table>\n",
       "</div>"
      ],
      "text/plain": [
       "         Username  Friends  Followers   ffratio\n",
       "0    _prettybrown     1042       1538  0.677503\n",
       "1  CarlyManning24      278        304  0.914474\n",
       "2  madzLuvzLakers      619       1039  0.595765\n",
       "3        _AyyJayy      203        204  0.995098\n",
       "4     Akeemoneale      165         27  6.111111"
      ]
     },
     "execution_count": 6,
     "metadata": {},
     "output_type": "execute_result"
    }
   ],
   "source": [
    "twitterSummary = twitterData[['Username', 'Friends', 'Followers']]\n",
    "twitterSummary['ffratio'] = twitterSummary['Friends'] / twitterSummary['Followers']\n",
    "\n",
    "twitterSummary.head()"
   ]
  },
  {
   "cell_type": "markdown",
   "metadata": {},
   "source": [
    "## Exercise 3 \n",
    "In the ```Data``` folder, there is a spreadsheet called ```studentData.csv``` consisting of students and test scores.  Write a script which calculates each students' average test score and adds that as a column to the DataFrame.  The first person to raise their hand and tell me which student has the highest average test score, and what it is wins something."
   ]
  },
  {
   "cell_type": "code",
   "execution_count": 7,
   "metadata": {
    "collapsed": false
   },
   "outputs": [
    {
     "data": {
      "text/html": [
       "<div>\n",
       "<table border=\"1\" class=\"dataframe\">\n",
       "  <thead>\n",
       "    <tr style=\"text-align: right;\">\n",
       "      <th></th>\n",
       "      <th>Student ID</th>\n",
       "      <th>Test1</th>\n",
       "      <th>Test2</th>\n",
       "      <th>Test3</th>\n",
       "      <th>Test4</th>\n",
       "      <th>Test5</th>\n",
       "      <th>average</th>\n",
       "    </tr>\n",
       "  </thead>\n",
       "  <tbody>\n",
       "    <tr>\n",
       "      <th>8</th>\n",
       "      <td>9</td>\n",
       "      <td>0.90</td>\n",
       "      <td>0.85</td>\n",
       "      <td>0.76</td>\n",
       "      <td>0.83</td>\n",
       "      <td>0.99</td>\n",
       "      <td>0.866</td>\n",
       "    </tr>\n",
       "    <tr>\n",
       "      <th>6</th>\n",
       "      <td>7</td>\n",
       "      <td>0.88</td>\n",
       "      <td>0.59</td>\n",
       "      <td>0.94</td>\n",
       "      <td>0.92</td>\n",
       "      <td>0.83</td>\n",
       "      <td>0.832</td>\n",
       "    </tr>\n",
       "    <tr>\n",
       "      <th>0</th>\n",
       "      <td>1</td>\n",
       "      <td>0.78</td>\n",
       "      <td>0.96</td>\n",
       "      <td>0.82</td>\n",
       "      <td>0.63</td>\n",
       "      <td>0.88</td>\n",
       "      <td>0.814</td>\n",
       "    </tr>\n",
       "    <tr>\n",
       "      <th>7</th>\n",
       "      <td>8</td>\n",
       "      <td>0.93</td>\n",
       "      <td>0.70</td>\n",
       "      <td>0.92</td>\n",
       "      <td>0.91</td>\n",
       "      <td>0.56</td>\n",
       "      <td>0.804</td>\n",
       "    </tr>\n",
       "    <tr>\n",
       "      <th>2</th>\n",
       "      <td>3</td>\n",
       "      <td>0.66</td>\n",
       "      <td>0.80</td>\n",
       "      <td>0.97</td>\n",
       "      <td>0.77</td>\n",
       "      <td>0.80</td>\n",
       "      <td>0.800</td>\n",
       "    </tr>\n",
       "    <tr>\n",
       "      <th>1</th>\n",
       "      <td>2</td>\n",
       "      <td>0.95</td>\n",
       "      <td>0.80</td>\n",
       "      <td>0.70</td>\n",
       "      <td>0.82</td>\n",
       "      <td>0.72</td>\n",
       "      <td>0.798</td>\n",
       "    </tr>\n",
       "    <tr>\n",
       "      <th>9</th>\n",
       "      <td>10</td>\n",
       "      <td>0.67</td>\n",
       "      <td>0.84</td>\n",
       "      <td>0.54</td>\n",
       "      <td>0.73</td>\n",
       "      <td>0.89</td>\n",
       "      <td>0.734</td>\n",
       "    </tr>\n",
       "    <tr>\n",
       "      <th>3</th>\n",
       "      <td>4</td>\n",
       "      <td>0.73</td>\n",
       "      <td>0.67</td>\n",
       "      <td>0.85</td>\n",
       "      <td>0.68</td>\n",
       "      <td>0.59</td>\n",
       "      <td>0.704</td>\n",
       "    </tr>\n",
       "    <tr>\n",
       "      <th>4</th>\n",
       "      <td>5</td>\n",
       "      <td>0.54</td>\n",
       "      <td>0.76</td>\n",
       "      <td>0.65</td>\n",
       "      <td>0.54</td>\n",
       "      <td>0.92</td>\n",
       "      <td>0.682</td>\n",
       "    </tr>\n",
       "    <tr>\n",
       "      <th>5</th>\n",
       "      <td>6</td>\n",
       "      <td>0.70</td>\n",
       "      <td>0.70</td>\n",
       "      <td>0.60</td>\n",
       "      <td>0.54</td>\n",
       "      <td>0.63</td>\n",
       "      <td>0.634</td>\n",
       "    </tr>\n",
       "  </tbody>\n",
       "</table>\n",
       "</div>"
      ],
      "text/plain": [
       "   Student ID   Test1  Test2  Test3  Test4  Test5  average\n",
       "8            9   0.90   0.85   0.76   0.83   0.99    0.866\n",
       "6            7   0.88   0.59   0.94   0.92   0.83    0.832\n",
       "0            1   0.78   0.96   0.82   0.63   0.88    0.814\n",
       "7            8   0.93   0.70   0.92   0.91   0.56    0.804\n",
       "2            3   0.66   0.80   0.97   0.77   0.80    0.800\n",
       "1            2   0.95   0.80   0.70   0.82   0.72    0.798\n",
       "9           10   0.67   0.84   0.54   0.73   0.89    0.734\n",
       "3            4   0.73   0.67   0.85   0.68   0.59    0.704\n",
       "4            5   0.54   0.76   0.65   0.54   0.92    0.682\n",
       "5            6   0.70   0.70   0.60   0.54   0.63    0.634"
      ]
     },
     "execution_count": 7,
     "metadata": {},
     "output_type": "execute_result"
    }
   ],
   "source": [
    "studentData = pd.read_csv('../../data/studentData.csv')\n",
    "\n",
    "studentData['average'] = studentData[['Test1', 'Test2', 'Test3', 'Test4', 'Test5']].mean(axis=1)\n",
    "\n",
    "studentData.sort_values('average', axis=0, ascending=False )"
   ]
  },
  {
   "cell_type": "markdown",
   "metadata": {
    "collapsed": true
   },
   "source": [
    "## Exercise 4\n",
    "Using the twitter data, find all the users with Facebook accounts and create a new column called ```FacebookID``` which contains the users' Facebook ID.  As you can see in the URL below, a user's Facebook ID can be found in the URL column, http://www.facebook.com/profile.php?id=5141860.  Extract this by using the ```str.extract``` function. Don't forget to remove all the invalid or empty IDs.  \n",
    "\n",
    "We've already created a DataFrame for you in the cell above."
   ]
  },
  {
   "cell_type": "code",
   "execution_count": 8,
   "metadata": {
    "collapsed": true
   },
   "outputs": [],
   "source": [
    "newData = twitterData[ twitterData['URL'].fillna(\"\").str.contains('facebook') ]\n",
    "newData['FacebookID'] = newData['URL'].str.extract( 'profile.php\\?id=(\\d+)', expand=False)\n",
    "newData.dropna( inplace=True )"
   ]
  },
  {
   "cell_type": "code",
   "execution_count": 10,
   "metadata": {
    "collapsed": false
   },
   "outputs": [
    {
     "data": {
      "text/html": [
       "<div>\n",
       "<table border=\"1\" class=\"dataframe\">\n",
       "  <thead>\n",
       "    <tr style=\"text-align: right;\">\n",
       "      <th></th>\n",
       "      <th>Primary Key</th>\n",
       "      <th>Service</th>\n",
       "      <th>Term</th>\n",
       "      <th>Username</th>\n",
       "      <th>Name</th>\n",
       "      <th>Update</th>\n",
       "      <th>Location</th>\n",
       "      <th>URL</th>\n",
       "      <th>Friends</th>\n",
       "      <th>Followers</th>\n",
       "      <th>Time(PDT)</th>\n",
       "      <th>City</th>\n",
       "      <th>State/Region</th>\n",
       "      <th>Country</th>\n",
       "      <th>Metro</th>\n",
       "      <th>Latitude</th>\n",
       "      <th>Longitude</th>\n",
       "      <th>FacebookID</th>\n",
       "    </tr>\n",
       "  </thead>\n",
       "  <tbody>\n",
       "    <tr>\n",
       "      <th>14</th>\n",
       "      <td>15</td>\n",
       "      <td>twitter</td>\n",
       "      <td>lakers</td>\n",
       "      <td>MrBAAD</td>\n",
       "      <td>Tashaun Williams</td>\n",
       "      <td>@goodyCHOOshoes haha im sorry for you then... ...</td>\n",
       "      <td>Miami</td>\n",
       "      <td>http://www.facebook.com/profile.php?id=5141860...</td>\n",
       "      <td>187</td>\n",
       "      <td>143</td>\n",
       "      <td>6/3/2010 17:00</td>\n",
       "      <td>Miami</td>\n",
       "      <td>FL</td>\n",
       "      <td>US</td>\n",
       "      <td>Miami-Fort Lauderdale-Pompano Beach FL</td>\n",
       "      <td>25.604410</td>\n",
       "      <td>-80.335216</td>\n",
       "      <td>514186015</td>\n",
       "    </tr>\n",
       "    <tr>\n",
       "      <th>66</th>\n",
       "      <td>67</td>\n",
       "      <td>twitter</td>\n",
       "      <td>lakers,celtics</td>\n",
       "      <td>HoneyHoward</td>\n",
       "      <td>Jasmine Howard</td>\n",
       "      <td>bout to cook dinner&amp;&amp;split this wig before the...</td>\n",
       "      <td>Washington, D.C.</td>\n",
       "      <td>http://www.facebook.com/home.php#/profile.php?...</td>\n",
       "      <td>349</td>\n",
       "      <td>1155</td>\n",
       "      <td>6/3/2010 17:00</td>\n",
       "      <td>Washington</td>\n",
       "      <td>DC</td>\n",
       "      <td>US</td>\n",
       "      <td>Washington-Arlington-Alexandria DC-VA-MD-WV</td>\n",
       "      <td>38.950224</td>\n",
       "      <td>-77.019714</td>\n",
       "      <td>1707568551</td>\n",
       "    </tr>\n",
       "    <tr>\n",
       "      <th>84</th>\n",
       "      <td>85</td>\n",
       "      <td>twitter</td>\n",
       "      <td>lakers</td>\n",
       "      <td>Est_June3rd</td>\n",
       "      <td>Chuck K</td>\n",
       "      <td>hmmm im seein alot of new lakers fans on ma ti...</td>\n",
       "      <td>Pontiac,MI</td>\n",
       "      <td>http://www.facebook.com/profile.php?id=1060743...</td>\n",
       "      <td>1397</td>\n",
       "      <td>1606</td>\n",
       "      <td>6/3/2010 17:00</td>\n",
       "      <td>Pontiac</td>\n",
       "      <td>MI</td>\n",
       "      <td>US</td>\n",
       "      <td>Detroit-Warren-Livonia MI</td>\n",
       "      <td>42.668599</td>\n",
       "      <td>-83.290343</td>\n",
       "      <td>1060743307</td>\n",
       "    </tr>\n",
       "    <tr>\n",
       "      <th>155</th>\n",
       "      <td>156</td>\n",
       "      <td>twitter</td>\n",
       "      <td>celtics,lakers</td>\n",
       "      <td>NGz_Swift</td>\n",
       "      <td>Yung Crush</td>\n",
       "      <td>Celtics finish smash the Lakers so I guess som...</td>\n",
       "      <td>Los Angeles,CA</td>\n",
       "      <td>http://www.facebook.com/#!/profile.php?id=1701...</td>\n",
       "      <td>238</td>\n",
       "      <td>574</td>\n",
       "      <td>6/3/2010 17:00</td>\n",
       "      <td>Los Angeles</td>\n",
       "      <td>CA</td>\n",
       "      <td>US</td>\n",
       "      <td>Los Angeles-Long Beach-Santa Ana CA</td>\n",
       "      <td>34.009842</td>\n",
       "      <td>-118.258642</td>\n",
       "      <td>1701903898</td>\n",
       "    </tr>\n",
       "    <tr>\n",
       "      <th>638</th>\n",
       "      <td>639</td>\n",
       "      <td>twitter</td>\n",
       "      <td>lakers</td>\n",
       "      <td>GoodLookTy_BFA</td>\n",
       "      <td>Tyquan Moore</td>\n",
       "      <td>@Relly718 19 to 1 Lakers lol</td>\n",
       "      <td>Brooklyn, New York</td>\n",
       "      <td>http://www.facebook.com/profile.php?id=551167346</td>\n",
       "      <td>259</td>\n",
       "      <td>339</td>\n",
       "      <td>6/3/2010 17:02</td>\n",
       "      <td>Brooklyn</td>\n",
       "      <td>NY</td>\n",
       "      <td>US</td>\n",
       "      <td>New York-Northern New Jersey-Long Island NY-NJ-PA</td>\n",
       "      <td>40.645412</td>\n",
       "      <td>-73.958730</td>\n",
       "      <td>551167346</td>\n",
       "    </tr>\n",
       "  </tbody>\n",
       "</table>\n",
       "</div>"
      ],
      "text/plain": [
       "     Primary Key  Service            Term        Username              Name  \\\n",
       "14            15  twitter          lakers          MrBAAD  Tashaun Williams   \n",
       "66            67  twitter  lakers,celtics     HoneyHoward    Jasmine Howard   \n",
       "84            85  twitter          lakers     Est_June3rd           Chuck K   \n",
       "155          156  twitter  celtics,lakers       NGz_Swift        Yung Crush   \n",
       "638          639  twitter          lakers  GoodLookTy_BFA      Tyquan Moore   \n",
       "\n",
       "                                                Update            Location  \\\n",
       "14   @goodyCHOOshoes haha im sorry for you then... ...               Miami   \n",
       "66   bout to cook dinner&&split this wig before the...   Washington, D.C.    \n",
       "84   hmmm im seein alot of new lakers fans on ma ti...          Pontiac,MI   \n",
       "155  Celtics finish smash the Lakers so I guess som...      Los Angeles,CA   \n",
       "638                       @Relly718 19 to 1 Lakers lol  Brooklyn, New York   \n",
       "\n",
       "                                                   URL  Friends  Followers  \\\n",
       "14   http://www.facebook.com/profile.php?id=5141860...      187        143   \n",
       "66   http://www.facebook.com/home.php#/profile.php?...      349       1155   \n",
       "84   http://www.facebook.com/profile.php?id=1060743...     1397       1606   \n",
       "155  http://www.facebook.com/#!/profile.php?id=1701...      238        574   \n",
       "638   http://www.facebook.com/profile.php?id=551167346      259        339   \n",
       "\n",
       "          Time(PDT)         City State/Region Country  \\\n",
       "14   6/3/2010 17:00        Miami           FL      US   \n",
       "66   6/3/2010 17:00   Washington           DC      US   \n",
       "84   6/3/2010 17:00      Pontiac           MI      US   \n",
       "155  6/3/2010 17:00  Los Angeles           CA      US   \n",
       "638  6/3/2010 17:02     Brooklyn           NY      US   \n",
       "\n",
       "                                                 Metro   Latitude   Longitude  \\\n",
       "14              Miami-Fort Lauderdale-Pompano Beach FL  25.604410  -80.335216   \n",
       "66         Washington-Arlington-Alexandria DC-VA-MD-WV  38.950224  -77.019714   \n",
       "84                           Detroit-Warren-Livonia MI  42.668599  -83.290343   \n",
       "155                Los Angeles-Long Beach-Santa Ana CA  34.009842 -118.258642   \n",
       "638  New York-Northern New Jersey-Long Island NY-NJ-PA  40.645412  -73.958730   \n",
       "\n",
       "     FacebookID  \n",
       "14    514186015  \n",
       "66   1707568551  \n",
       "84   1060743307  \n",
       "155  1701903898  \n",
       "638   551167346  "
      ]
     },
     "execution_count": 10,
     "metadata": {},
     "output_type": "execute_result"
    }
   ],
   "source": [
    "newData.head()"
   ]
  },
  {
   "cell_type": "code",
   "execution_count": null,
   "metadata": {
    "collapsed": true
   },
   "outputs": [],
   "source": []
  }
 ],
 "metadata": {
  "anaconda-cloud": {},
  "kernelspec": {
   "display_name": "Python [default]",
   "language": "python",
   "name": "python3"
  },
  "language_info": {
   "codemirror_mode": {
    "name": "ipython",
    "version": 3
   },
   "file_extension": ".py",
   "mimetype": "text/x-python",
   "name": "python",
   "nbconvert_exporter": "python",
   "pygments_lexer": "ipython3",
   "version": "3.5.2"
  }
 },
 "nbformat": 4,
 "nbformat_minor": 0
}
